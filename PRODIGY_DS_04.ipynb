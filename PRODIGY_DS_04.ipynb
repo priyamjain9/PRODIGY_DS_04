{
 "cells": [
  {
   "cell_type": "code",
   "execution_count": 1,
   "id": "866a740d",
   "metadata": {},
   "outputs": [],
   "source": [
    "import numpy as np\n",
    "import pandas as pd\n",
    "import re\n",
    "from sklearn.feature_extraction.text import CountVectorizer\n",
    "from sklearn.metrics import accuracy_score\n",
    "import nltk\n",
    "from nltk.corpus import stopwords"
   ]
  },
  {
   "cell_type": "code",
   "execution_count": 3,
   "id": "6b0f7972",
   "metadata": {},
   "outputs": [],
   "source": [
    "col_name = [\"no\", \"name\", \"result\", \"review\"]\n",
    "df1 = pd.read_csv(\"twitter_validation.csv\", names=col_name)\n",
    "df2 = pd.read_csv(\"twitter_training.csv\", names=col_name)\n",
    "df = pd.concat([df1, df2])"
   ]
  },
  {
   "cell_type": "code",
   "execution_count": 4,
   "id": "1932324a",
   "metadata": {},
   "outputs": [
    {
     "data": {
      "text/plain": [
       "no          0\n",
       "name        0\n",
       "result      0\n",
       "review    686\n",
       "dtype: int64"
      ]
     },
     "execution_count": 4,
     "metadata": {},
     "output_type": "execute_result"
    }
   ],
   "source": [
    "df.isnull().sum()"
   ]
  },
  {
   "cell_type": "code",
   "execution_count": 5,
   "id": "a7a5c083",
   "metadata": {},
   "outputs": [],
   "source": [
    "df=df.dropna()"
   ]
  },
  {
   "cell_type": "code",
   "execution_count": 6,
   "id": "a7cfc051",
   "metadata": {},
   "outputs": [
    {
     "data": {
      "text/plain": [
       "no        0\n",
       "name      0\n",
       "result    0\n",
       "review    0\n",
       "dtype: int64"
      ]
     },
     "execution_count": 6,
     "metadata": {},
     "output_type": "execute_result"
    }
   ],
   "source": [
    "df.isnull().sum()"
   ]
  },
  {
   "cell_type": "code",
   "execution_count": 7,
   "id": "4e098c67",
   "metadata": {},
   "outputs": [
    {
     "name": "stdout",
     "output_type": "stream",
     "text": [
      "                   name    result  \\\n",
      "2             Microsoft  Negative   \n",
      "3                 CS-GO  Negative   \n",
      "5                  FIFA  Negative   \n",
      "6             MaddenNFL  Positive   \n",
      "7  TomClancysRainbowSix  Positive   \n",
      "\n",
      "                                              review  \n",
      "2  @Microsoft Why do I pay for WORD when it funct...  \n",
      "3  CSGO matchmaking is so full of closet hacking,...  \n",
      "5  Hi @EAHelp I’ve had Madeleine McCann in my cel...  \n",
      "6  Thank you @EAMaddenNFL!! \\n\\nNew TE Austin Hoo...  \n",
      "7  Rocket League, Sea of Thieves or Rainbow Six: ...  \n"
     ]
    }
   ],
   "source": [
    "df = df.drop(\"no\", axis=1)\n",
    "df = df[~df['result'].isin(['Neutral', 'Irrelevant'])]\n",
    "\n",
    "print(df.head())"
   ]
  },
  {
   "cell_type": "code",
   "execution_count": 8,
   "id": "58f5e3bb",
   "metadata": {},
   "outputs": [],
   "source": [
    "mapping = {\"Positive\": 1, \"Negative\": 0}\n",
    "df[\"result\"] = df[\"result\"].map(mapping)"
   ]
  },
  {
   "cell_type": "code",
   "execution_count": 9,
   "id": "2cd285ca",
   "metadata": {},
   "outputs": [],
   "source": [
    "def clean_html(text):\n",
    "    clean = re.compile(\"<.*?>\")\n",
    "    return re.sub(clean, \"\", text)\n",
    "\n",
    "df[\"review\"] = df[\"review\"].apply(clean_html)"
   ]
  },
  {
   "cell_type": "code",
   "execution_count": 10,
   "id": "36d9c050",
   "metadata": {},
   "outputs": [],
   "source": [
    "def convert_lower(text):\n",
    "    return text.lower()\n",
    "\n",
    "df[\"review\"] = df[\"review\"].apply(convert_lower)"
   ]
  },
  {
   "cell_type": "code",
   "execution_count": 11,
   "id": "6ae6774e",
   "metadata": {},
   "outputs": [],
   "source": [
    "def remove_special(text):\n",
    "    clean_text = re.sub(r\"[^a-zA-Z0-9]\", \" \", text)\n",
    "    return clean_text\n",
    "\n",
    "df[\"review\"] = df[\"review\"].apply(remove_special)"
   ]
  },
  {
   "cell_type": "code",
   "execution_count": 12,
   "id": "a1908bc5",
   "metadata": {},
   "outputs": [
    {
     "name": "stderr",
     "output_type": "stream",
     "text": [
      "[nltk_data] Downloading package stopwords to C:\\Users\\priyam\n",
      "[nltk_data]     jain\\AppData\\Roaming\\nltk_data...\n",
      "[nltk_data]   Unzipping corpora\\stopwords.zip.\n"
     ]
    }
   ],
   "source": [
    "nltk.download('stopwords')\n",
    "\n",
    "def remove_stopwords(text):\n",
    "    stopwords_list = stopwords.words(\"english\")\n",
    "    tokens = text.split()\n",
    "    clean_tokens = [token for token in tokens if token not in stopwords_list]\n",
    "    return \" \".join(clean_tokens)\n",
    "\n",
    "df[\"review\"] = df[\"review\"].apply(remove_stopwords)"
   ]
  },
  {
   "cell_type": "code",
   "execution_count": 13,
   "id": "6307f1f3",
   "metadata": {},
   "outputs": [],
   "source": [
    "from nltk.stem import PorterStemmer\n",
    "\n",
    "porter = PorterStemmer()\n",
    "\n",
    "def stem_words(text):\n",
    "    tokens = text.split()\n",
    "    stemmed_tokens = [porter.stem(token) for token in tokens]\n",
    "    return \" \".join(stemmed_tokens)\n",
    "\n",
    "df[\"review\"] = df[\"review\"].apply(stem_words)"
   ]
  },
  {
   "cell_type": "code",
   "execution_count": 14,
   "id": "9f09578a",
   "metadata": {},
   "outputs": [],
   "source": [
    "df[\"new_review\"] = df[\"name\"] + \"-\" + df[\"review\"]"
   ]
  },
  {
   "cell_type": "code",
   "execution_count": 15,
   "id": "a9efaa18",
   "metadata": {},
   "outputs": [],
   "source": [
    "from sklearn.model_selection import train_test_split\n",
    "\n",
    "X_train, X_test, y_train, y_test = train_test_split(df[\"new_review\"], df[\"result\"], test_size=0.2, random_state=42)\n"
   ]
  },
  {
   "cell_type": "code",
   "execution_count": 16,
   "id": "fb2a8b77",
   "metadata": {},
   "outputs": [],
   "source": [
    "cv = CountVectorizer()\n",
    "\n",
    "X_train = cv.fit_transform(X_train).toarray()\n",
    "X_test = cv.transform(X_test).toarray()"
   ]
  },
  {
   "cell_type": "code",
   "execution_count": 17,
   "id": "32ce417b",
   "metadata": {},
   "outputs": [],
   "source": [
    "from sklearn.ensemble import RandomForestClassifier"
   ]
  },
  {
   "cell_type": "code",
   "execution_count": 18,
   "id": "e52afdb2",
   "metadata": {},
   "outputs": [],
   "source": [
    "from sklearn.ensemble import RandomForestClassifier\n",
    "rf_classifier = RandomForestClassifier()\n",
    "\n",
    "rf_classifier.fit(X_train, y_train)\n",
    "\n",
    "y_pred = rf_classifier.predict(X_test)"
   ]
  },
  {
   "cell_type": "code",
   "execution_count": 20,
   "id": "d858b767",
   "metadata": {},
   "outputs": [
    {
     "data": {
      "text/plain": [
       "array([1, 1, 1, ..., 0, 1, 0], dtype=int64)"
      ]
     },
     "execution_count": 20,
     "metadata": {},
     "output_type": "execute_result"
    }
   ],
   "source": [
    "y_pred"
   ]
  },
  {
   "cell_type": "code",
   "execution_count": 19,
   "id": "eaad7762",
   "metadata": {},
   "outputs": [
    {
     "name": "stdout",
     "output_type": "stream",
     "text": [
      "Accuracy: 0.9676308539944903\n"
     ]
    }
   ],
   "source": [
    "accuracy = accuracy_score(y_test, y_pred)\n",
    "print(\"Accuracy:\", accuracy)"
   ]
  },
  {
   "cell_type": "code",
   "execution_count": null,
   "id": "7799df61",
   "metadata": {},
   "outputs": [],
   "source": []
  }
 ],
 "metadata": {
  "kernelspec": {
   "display_name": "Python 3 (ipykernel)",
   "language": "python",
   "name": "python3"
  },
  "language_info": {
   "codemirror_mode": {
    "name": "ipython",
    "version": 3
   },
   "file_extension": ".py",
   "mimetype": "text/x-python",
   "name": "python",
   "nbconvert_exporter": "python",
   "pygments_lexer": "ipython3",
   "version": "3.10.9"
  }
 },
 "nbformat": 4,
 "nbformat_minor": 5
}
